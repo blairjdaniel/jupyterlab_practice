{
 "cells": [
  {
   "cell_type": "markdown",
   "id": "555c3e78-5c9e-4681-bdea-97d8a7b5f175",
   "metadata": {},
   "source": [
    "We are currently working in the following directory:"
   ]
  },
  {
   "cell_type": "markdown",
   "id": "6804eb6c-376b-4a69-a70d-880c6fc42609",
   "metadata": {},
   "source": [
    "To time how long to run a Python cell, we can use the timeit command inside the cell as is shown below: Followed by the proper use of the timeit command to time the following loop. <br>\n",
    "```python\n",
    "for i in range(1_000_000):\n",
    "    i**2"
   ]
  },
  {
   "cell_type": "code",
   "execution_count": 3,
   "id": "0c496fe7-6875-4178-9f35-36675cb1fa74",
   "metadata": {
    "tags": []
   },
   "outputs": [
    {
     "name": "stdout",
     "output_type": "stream",
     "text": [
      "[NbConvertApp] WARNING | Config option `kernel_spec_manager_class` not recognized by `NbConvertApp`.\n",
      "[NbConvertApp] Converting notebook question12.ipynb to html\n",
      "[NbConvertApp] Writing 574666 bytes to question12.html\n"
     ]
    }
   ],
   "source": [
    "!jupyter nbconvert --no-input --to html question12.ipynb"
   ]
  },
  {
   "cell_type": "code",
   "execution_count": null,
   "id": "fc8ccd7b-123a-47e8-9604-a696766d7cf7",
   "metadata": {},
   "outputs": [],
   "source": []
  }
 ],
 "metadata": {
  "kernelspec": {
   "display_name": "Python 3 (ipykernel)",
   "language": "python",
   "name": "python3"
  },
  "language_info": {
   "codemirror_mode": {
    "name": "ipython",
    "version": 3
   },
   "file_extension": ".py",
   "mimetype": "text/x-python",
   "name": "python",
   "nbconvert_exporter": "python",
   "pygments_lexer": "ipython3",
   "version": "3.11.3"
  }
 },
 "nbformat": 4,
 "nbformat_minor": 5
}
