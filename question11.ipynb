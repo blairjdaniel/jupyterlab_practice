{
 "cells": [
  {
   "cell_type": "markdown",
   "id": "dd5444ce-5cbe-4223-8bf5-6fa54850760c",
   "metadata": {},
   "source": [
    "<h1>Notebook for Assignment 7</h1>"
   ]
  },
  {
   "cell_type": "code",
   "execution_count": 1,
   "id": "56089c50-fddb-4575-9487-e3ee53b2a314",
   "metadata": {
    "tags": []
   },
   "outputs": [
    {
     "data": {
      "text/plain": [
       "5.0"
      ]
     },
     "execution_count": 1,
     "metadata": {},
     "output_type": "execute_result"
    }
   ],
   "source": [
    "def compute_mean(lst):\n",
    "     return sum(lst) / len(lst) if lst else None\n",
    "    \n",
    "compute_mean([2, 4, 6, 8])"
   ]
  },
  {
   "cell_type": "markdown",
   "id": "ef9d727a-e73f-4ad2-a65f-0bef4a86d00a",
   "metadata": {},
   "source": []
  }
 ],
 "metadata": {
  "kernelspec": {
   "display_name": "Python 3 (ipykernel)",
   "language": "python",
   "name": "python3"
  },
  "language_info": {
   "codemirror_mode": {
    "name": "ipython",
    "version": 3
   },
   "file_extension": ".py",
   "mimetype": "text/x-python",
   "name": "python",
   "nbconvert_exporter": "python",
   "pygments_lexer": "ipython3",
   "version": "3.11.3"
  }
 },
 "nbformat": 4,
 "nbformat_minor": 5
}
